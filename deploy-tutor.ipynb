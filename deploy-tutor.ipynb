{
 "cells": [
  {
   "attachments": {},
   "cell_type": "markdown",
   "metadata": {},
   "source": [
    "# DEPLOY USING GIT AND GITHUB\n",
    "\n",
    "GET STARTED\n",
    "\n",
    "1. From Cpanel, open git version contron\n",
    "2. Creat repository in web hosting that connected to github ropository. Fill the URL for cloning repository then click create button\n",
    "\n",
    "***note: the repository now connected to web hosting, check your repository in repository folder in file manager**\n",
    "\n",
    "AUTOMATICLY DEPLOY\n",
    "\n",
    "1. From git version control, click manage to manage the repository that had been connnected\n",
    "2. Go to \"pull or deploy\" section\n",
    "3. For able to clik \"update from remote\" to update repository in cpanel from github repository, make sure there is a valid .cpanel.yml in the repository. This file is for deployment configuration.\n",
    "4. Then clik update from remote, it will automaticly add the repository to public html \n",
    "\n",
    "MAKE .cpanel.yml FILE\n",
    "1. Make new file, name it \".cpanel.yml\"\n",
    "2. Save it in root folder of that repository\n",
    "3. Copy and the script below\n",
    "\n",
    "DEPLOYING WHILE WORKING\n",
    "\n",
    "1. From computer use git to update the remote repo in git hub. Use command:\n",
    "    git add . \n",
    "    git commit -m \"message\"\n",
    "    git push\n",
    "\n",
    "2. If ropository in Github already been updated, then update repository in Cpanle, click \"update from remote\"\n",
    "3. Then clikc deploy head commit to add file from repository folder to public_html"
   ]
  },
  {
   "attachments": {},
   "cell_type": "markdown",
   "metadata": {},
   "source": [
    "---\n",
    "deployment:\n",
    "  tasks:\n",
    "    - export DEPLOYPATH=/home/user web hosting/public_html/teknikinformatikaunri.xyz\n",
    "    - /bin/cp index.html $DEPLOYPATH \n",
    "    - /bin/cp style.css $DEPLOYPATH\n",
    "    - /bin/cp -R assets $DEPLOYPATH\n"
   ]
  },
  {
   "attachments": {},
   "cell_type": "markdown",
   "metadata": {},
   "source": [
    "\n",
    "1. /bin/cp -R assets $DEPLOYPATH command copy folder assets and everything inside it to $DEPLOYPATH.\n",
    "\n",
    "2. /bin/cp command copy file/directory. This command copy file/directory from one location to another.\n",
    "\n",
    "3. -R atau --recursive command use to coppy direktory and everything inside it recursively"
   ]
  }
 ],
 "metadata": {
  "kernelspec": {
   "display_name": "Python 3",
   "language": "python",
   "name": "python3"
  },
  "language_info": {
   "codemirror_mode": {
    "name": "ipython",
    "version": 3
   },
   "file_extension": ".py",
   "mimetype": "text/x-python",
   "name": "python",
   "nbconvert_exporter": "python",
   "pygments_lexer": "ipython3",
   "version": "3.10.8"
  },
  "orig_nbformat": 4
 },
 "nbformat": 4,
 "nbformat_minor": 2
}
